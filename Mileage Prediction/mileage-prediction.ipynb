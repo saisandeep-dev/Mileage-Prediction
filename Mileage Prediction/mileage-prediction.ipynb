{
 "cells": [
  {
   "cell_type": "markdown",
   "id": "ea9f39be",
   "metadata": {
    "papermill": {
     "duration": 0.015168,
     "end_time": "2023-08-12T09:37:30.825337",
     "exception": false,
     "start_time": "2023-08-12T09:37:30.810169",
     "status": "completed"
    },
    "tags": []
   },
   "source": [
    "# Title of Project"
   ]
  },
  {
   "cell_type": "markdown",
   "id": "4b776d3c",
   "metadata": {
    "papermill": {
     "duration": 0.015899,
     "end_time": "2023-08-12T09:37:30.856187",
     "exception": false,
     "start_time": "2023-08-12T09:37:30.840288",
     "status": "completed"
    },
    "tags": []
   },
   "source": [
    "Mileage Prediction - Regression Analysis"
   ]
  },
  {
   "cell_type": "markdown",
   "id": "391ec0ea",
   "metadata": {
    "papermill": {
     "duration": 0.01426,
     "end_time": "2023-08-12T09:37:30.885081",
     "exception": false,
     "start_time": "2023-08-12T09:37:30.870821",
     "status": "completed"
    },
    "tags": []
   },
   "source": [
    "# Objective"
   ]
  },
  {
   "cell_type": "markdown",
   "id": "94e39a84",
   "metadata": {
    "papermill": {
     "duration": 0.014239,
     "end_time": "2023-08-12T09:37:30.913968",
     "exception": false,
     "start_time": "2023-08-12T09:37:30.899729",
     "status": "completed"
    },
    "tags": []
   },
   "source": [
    "The objective of mileage prediction using regression analysis is to establish a mathematical relationship between relevant variables (such as vehicle specifications, driving conditions, etc.) and fuel efficiency. By analyzing these variables, regression aims to create a predictive model that accurately estimates a vehicle's mileage, aiding in performance assessment, resource planning, and decision-making for individuals and businesses in the automotive sector."
   ]
  },
  {
   "cell_type": "markdown",
   "id": "b3252650",
   "metadata": {
    "papermill": {
     "duration": 0.014425,
     "end_time": "2023-08-12T09:37:30.943577",
     "exception": false,
     "start_time": "2023-08-12T09:37:30.929152",
     "status": "completed"
    },
    "tags": []
   },
   "source": [
    "# Data Source"
   ]
  },
  {
   "cell_type": "markdown",
   "id": "9cef744d",
   "metadata": {
    "papermill": {
     "duration": 0.014408,
     "end_time": "2023-08-12T09:37:30.972647",
     "exception": false,
     "start_time": "2023-08-12T09:37:30.958239",
     "status": "completed"
    },
    "tags": []
   },
   "source": [
    "YBI Foundation github Page"
   ]
  },
  {
   "cell_type": "markdown",
   "id": "fc5fb339",
   "metadata": {
    "papermill": {
     "duration": 0.014322,
     "end_time": "2023-08-12T09:37:31.001585",
     "exception": false,
     "start_time": "2023-08-12T09:37:30.987263",
     "status": "completed"
    },
    "tags": []
   },
   "source": [
    "# Import Library"
   ]
  },
  {
   "cell_type": "code",
   "execution_count": 1,
   "id": "8921160d",
   "metadata": {
    "execution": {
     "iopub.execute_input": "2023-08-12T09:37:31.033312Z",
     "iopub.status.busy": "2023-08-12T09:37:31.032059Z",
     "iopub.status.idle": "2023-08-12T09:37:32.528039Z",
     "shell.execute_reply": "2023-08-12T09:37:32.526790Z"
    },
    "papermill": {
     "duration": 1.514845,
     "end_time": "2023-08-12T09:37:32.531002",
     "exception": false,
     "start_time": "2023-08-12T09:37:31.016157",
     "status": "completed"
    },
    "tags": []
   },
   "outputs": [
    {
     "ename": "ModuleNotFoundError",
     "evalue": "No module named 'seaborn'",
     "output_type": "error",
     "traceback": [
      "\u001b[1;31m---------------------------------------------------------------------------\u001b[0m",
      "\u001b[1;31mModuleNotFoundError\u001b[0m                       Traceback (most recent call last)",
      "Cell \u001b[1;32mIn[1], line 3\u001b[0m\n\u001b[0;32m      1\u001b[0m \u001b[38;5;28;01mimport\u001b[39;00m \u001b[38;5;21;01mpandas\u001b[39;00m \u001b[38;5;28;01mas\u001b[39;00m \u001b[38;5;21;01mpd\u001b[39;00m\n\u001b[0;32m      2\u001b[0m \u001b[38;5;28;01mimport\u001b[39;00m \u001b[38;5;21;01mnumpy\u001b[39;00m \u001b[38;5;28;01mas\u001b[39;00m \u001b[38;5;21;01mnp\u001b[39;00m\n\u001b[1;32m----> 3\u001b[0m \u001b[38;5;28;01mimport\u001b[39;00m \u001b[38;5;21;01mseaborn\u001b[39;00m \u001b[38;5;28;01mas\u001b[39;00m \u001b[38;5;21;01msns\u001b[39;00m\n\u001b[0;32m      4\u001b[0m \u001b[38;5;28;01mimport\u001b[39;00m \u001b[38;5;21;01mmatplotlib\u001b[39;00m\u001b[38;5;21;01m.\u001b[39;00m\u001b[38;5;21;01mpyplot\u001b[39;00m \u001b[38;5;28;01mas\u001b[39;00m \u001b[38;5;21;01mplt\u001b[39;00m\n",
      "\u001b[1;31mModuleNotFoundError\u001b[0m: No module named 'seaborn'"
     ]
    }
   ],
   "source": [
    "import pandas as pd\n",
    "import numpy as np\n",
    "import seaborn as sns\n",
    "import matplotlib.pyplot as plt"
   ]
  },
  {
   "cell_type": "markdown",
   "id": "d77dca08",
   "metadata": {
    "papermill": {
     "duration": 0.014774,
     "end_time": "2023-08-12T09:37:32.561890",
     "exception": false,
     "start_time": "2023-08-12T09:37:32.547116",
     "status": "completed"
    },
    "tags": []
   },
   "source": [
    "# Import Data"
   ]
  },
  {
   "cell_type": "code",
   "execution_count": 2,
   "id": "6727f7b0",
   "metadata": {
    "execution": {
     "iopub.execute_input": "2023-08-12T09:37:32.594634Z",
     "iopub.status.busy": "2023-08-12T09:37:32.593456Z",
     "iopub.status.idle": "2023-08-12T09:37:32.844745Z",
     "shell.execute_reply": "2023-08-12T09:37:32.843514Z"
    },
    "papermill": {
     "duration": 0.270361,
     "end_time": "2023-08-12T09:37:32.847554",
     "exception": false,
     "start_time": "2023-08-12T09:37:32.577193",
     "status": "completed"
    },
    "tags": []
   },
   "outputs": [
    {
     "data": {
      "text/html": [
       "<div>\n",
       "<style scoped>\n",
       "    .dataframe tbody tr th:only-of-type {\n",
       "        vertical-align: middle;\n",
       "    }\n",
       "\n",
       "    .dataframe tbody tr th {\n",
       "        vertical-align: top;\n",
       "    }\n",
       "\n",
       "    .dataframe thead th {\n",
       "        text-align: right;\n",
       "    }\n",
       "</style>\n",
       "<table border=\"1\" class=\"dataframe\">\n",
       "  <thead>\n",
       "    <tr style=\"text-align: right;\">\n",
       "      <th></th>\n",
       "      <th>mpg</th>\n",
       "      <th>cylinders</th>\n",
       "      <th>displacement</th>\n",
       "      <th>horsepower</th>\n",
       "      <th>weight</th>\n",
       "      <th>acceleration</th>\n",
       "      <th>model_year</th>\n",
       "      <th>origin</th>\n",
       "      <th>name</th>\n",
       "    </tr>\n",
       "  </thead>\n",
       "  <tbody>\n",
       "    <tr>\n",
       "      <th>0</th>\n",
       "      <td>18.0</td>\n",
       "      <td>8</td>\n",
       "      <td>307.0</td>\n",
       "      <td>130.0</td>\n",
       "      <td>3504</td>\n",
       "      <td>12.0</td>\n",
       "      <td>70</td>\n",
       "      <td>usa</td>\n",
       "      <td>chevrolet chevelle malibu</td>\n",
       "    </tr>\n",
       "    <tr>\n",
       "      <th>1</th>\n",
       "      <td>15.0</td>\n",
       "      <td>8</td>\n",
       "      <td>350.0</td>\n",
       "      <td>165.0</td>\n",
       "      <td>3693</td>\n",
       "      <td>11.5</td>\n",
       "      <td>70</td>\n",
       "      <td>usa</td>\n",
       "      <td>buick skylark 320</td>\n",
       "    </tr>\n",
       "    <tr>\n",
       "      <th>2</th>\n",
       "      <td>18.0</td>\n",
       "      <td>8</td>\n",
       "      <td>318.0</td>\n",
       "      <td>150.0</td>\n",
       "      <td>3436</td>\n",
       "      <td>11.0</td>\n",
       "      <td>70</td>\n",
       "      <td>usa</td>\n",
       "      <td>plymouth satellite</td>\n",
       "    </tr>\n",
       "    <tr>\n",
       "      <th>3</th>\n",
       "      <td>16.0</td>\n",
       "      <td>8</td>\n",
       "      <td>304.0</td>\n",
       "      <td>150.0</td>\n",
       "      <td>3433</td>\n",
       "      <td>12.0</td>\n",
       "      <td>70</td>\n",
       "      <td>usa</td>\n",
       "      <td>amc rebel sst</td>\n",
       "    </tr>\n",
       "    <tr>\n",
       "      <th>4</th>\n",
       "      <td>17.0</td>\n",
       "      <td>8</td>\n",
       "      <td>302.0</td>\n",
       "      <td>140.0</td>\n",
       "      <td>3449</td>\n",
       "      <td>10.5</td>\n",
       "      <td>70</td>\n",
       "      <td>usa</td>\n",
       "      <td>ford torino</td>\n",
       "    </tr>\n",
       "  </tbody>\n",
       "</table>\n",
       "</div>"
      ],
      "text/plain": [
       "    mpg  cylinders  displacement  horsepower  weight  acceleration  \\\n",
       "0  18.0          8         307.0       130.0    3504          12.0   \n",
       "1  15.0          8         350.0       165.0    3693          11.5   \n",
       "2  18.0          8         318.0       150.0    3436          11.0   \n",
       "3  16.0          8         304.0       150.0    3433          12.0   \n",
       "4  17.0          8         302.0       140.0    3449          10.5   \n",
       "\n",
       "   model_year origin                       name  \n",
       "0          70    usa  chevrolet chevelle malibu  \n",
       "1          70    usa          buick skylark 320  \n",
       "2          70    usa         plymouth satellite  \n",
       "3          70    usa              amc rebel sst  \n",
       "4          70    usa                ford torino  "
      ]
     },
     "execution_count": 2,
     "metadata": {},
     "output_type": "execute_result"
    }
   ],
   "source": [
    "df = pd.read_csv(r'https://raw.githubusercontent.com/YBIFoundation/Dataset/main/MPG.csv')\n",
    "df.head()"
   ]
  },
  {
   "cell_type": "code",
   "execution_count": 3,
   "id": "997cecb5",
   "metadata": {
    "execution": {
     "iopub.execute_input": "2023-08-12T09:37:32.880072Z",
     "iopub.status.busy": "2023-08-12T09:37:32.879665Z",
     "iopub.status.idle": "2023-08-12T09:37:32.896165Z",
     "shell.execute_reply": "2023-08-12T09:37:32.895012Z"
    },
    "papermill": {
     "duration": 0.035593,
     "end_time": "2023-08-12T09:37:32.898536",
     "exception": false,
     "start_time": "2023-08-12T09:37:32.862943",
     "status": "completed"
    },
    "tags": []
   },
   "outputs": [
    {
     "data": {
      "text/plain": [
       "mpg             129\n",
       "cylinders         5\n",
       "displacement     82\n",
       "horsepower       93\n",
       "weight          351\n",
       "acceleration     95\n",
       "model_year       13\n",
       "origin            3\n",
       "name            305\n",
       "dtype: int64"
      ]
     },
     "execution_count": 3,
     "metadata": {},
     "output_type": "execute_result"
    }
   ],
   "source": [
    "df.nunique()"
   ]
  },
  {
   "cell_type": "markdown",
   "id": "c2e78349",
   "metadata": {
    "papermill": {
     "duration": 0.01511,
     "end_time": "2023-08-12T09:37:32.928989",
     "exception": false,
     "start_time": "2023-08-12T09:37:32.913879",
     "status": "completed"
    },
    "tags": []
   },
   "source": [
    "# Data Visualization"
   ]
  },
  {
   "cell_type": "code",
   "execution_count": 4,
   "id": "ac8c962d",
   "metadata": {
    "execution": {
     "iopub.execute_input": "2023-08-12T09:37:32.964144Z",
     "iopub.status.busy": "2023-08-12T09:37:32.963751Z",
     "iopub.status.idle": "2023-08-12T09:37:34.257380Z",
     "shell.execute_reply": "2023-08-12T09:37:34.256472Z"
    },
    "papermill": {
     "duration": 1.314139,
     "end_time": "2023-08-12T09:37:34.259956",
     "exception": false,
     "start_time": "2023-08-12T09:37:32.945817",
     "status": "completed"
    },
    "tags": []
   },
   "outputs": [
    {
     "name": "stderr",
     "output_type": "stream",
     "text": [
      "/opt/conda/lib/python3.10/site-packages/seaborn/axisgrid.py:118: UserWarning: The figure layout has changed to tight\n",
      "  self._figure.tight_layout(*args, **kwargs)\n"
     ]
    },
    {
     "data": {
      "text/plain": [
       "<seaborn.axisgrid.PairGrid at 0x78a86bc667a0>"
      ]
     },
     "execution_count": 4,
     "metadata": {},
     "output_type": "execute_result"
    },
    {
     "data": {
      "image/png": "[encoded data removed]",
      "text/plain": [
       "<Figure size 1250x250 with 6 Axes>"
      ]
     },
     "metadata": {},
     "output_type": "display_data"
    }
   ],
   "source": [
    "sns.pairplot(df, x_vars=['displacement', 'horsepower', 'weight', 'acceleration', 'mpg'], y_vars=['mpg'])"
   ]
  },
  {
   "cell_type": "code",
   "execution_count": 5,
   "id": "2d8984ac",
   "metadata": {
    "execution": {
     "iopub.execute_input": "2023-08-12T09:37:34.296522Z",
     "iopub.status.busy": "2023-08-12T09:37:34.295668Z",
     "iopub.status.idle": "2023-08-12T09:37:34.692938Z",
     "shell.execute_reply": "2023-08-12T09:37:34.691889Z"
    },
    "papermill": {
     "duration": 0.41892,
     "end_time": "2023-08-12T09:37:34.695904",
     "exception": false,
     "start_time": "2023-08-12T09:37:34.276984",
     "status": "completed"
    },
    "tags": []
   },
   "outputs": [
    {
     "data": {
      "image/png": "[encoded data removed]",
      "text/plain": [
       "<Figure size 640x480 with 1 Axes>"
      ]
     },
     "metadata": {},
     "output_type": "display_data"
    }
   ],
   "source": [
    "sns.regplot(x ='displacement' , y='mpg' , data=df)\n",
    "plt.xlabel(\"Displacemnet\", fontsize =15)\n",
    "plt.ylabel(\"Miles per gallon(mpg)\", fontsize =15)\n",
    "plt.show()"
   ]
  },
  {
   "cell_type": "markdown",
   "id": "8e17c3aa",
   "metadata": {
    "papermill": {
     "duration": 0.017654,
     "end_time": "2023-08-12T09:37:34.731492",
     "exception": false,
     "start_time": "2023-08-12T09:37:34.713838",
     "status": "completed"
    },
    "tags": []
   },
   "source": [
    "# Data Preprocessing"
   ]
  },
  {
   "cell_type": "code",
   "execution_count": 6,
   "id": "555492ba",
   "metadata": {
    "execution": {
     "iopub.execute_input": "2023-08-12T09:37:34.769093Z",
     "iopub.status.busy": "2023-08-12T09:37:34.768720Z",
     "iopub.status.idle": "2023-08-12T09:37:34.785019Z",
     "shell.execute_reply": "2023-08-12T09:37:34.783864Z"
    },
    "papermill": {
     "duration": 0.037844,
     "end_time": "2023-08-12T09:37:34.787402",
     "exception": false,
     "start_time": "2023-08-12T09:37:34.749558",
     "status": "completed"
    },
    "tags": []
   },
   "outputs": [
    {
     "name": "stdout",
     "output_type": "stream",
     "text": [
      "<class 'pandas.core.frame.DataFrame'>\n",
      "RangeIndex: 398 entries, 0 to 397\n",
      "Data columns (total 9 columns):\n",
      " #   Column        Non-Null Count  Dtype  \n",
      "---  ------        --------------  -----  \n",
      " 0   mpg           398 non-null    float64\n",
      " 1   cylinders     398 non-null    int64  \n",
      " 2   displacement  398 non-null    float64\n",
      " 3   horsepower    392 non-null    float64\n",
      " 4   weight        398 non-null    int64  \n",
      " 5   acceleration  398 non-null    float64\n",
      " 6   model_year    398 non-null    int64  \n",
      " 7   origin        398 non-null    object \n",
      " 8   name          398 non-null    object \n",
      "dtypes: float64(4), int64(3), object(2)\n",
      "memory usage: 28.1+ KB\n"
     ]
    }
   ],
   "source": [
    "df.info()"
   ]
  },
  {
   "cell_type": "code",
   "execution_count": 7,
   "id": "050ad716",
   "metadata": {
    "execution": {
     "iopub.execute_input": "2023-08-12T09:37:34.826303Z",
     "iopub.status.busy": "2023-08-12T09:37:34.825514Z",
     "iopub.status.idle": "2023-08-12T09:37:34.861689Z",
     "shell.execute_reply": "2023-08-12T09:37:34.860866Z"
    },
    "papermill": {
     "duration": 0.05835,
     "end_time": "2023-08-12T09:37:34.863933",
     "exception": false,
     "start_time": "2023-08-12T09:37:34.805583",
     "status": "completed"
    },
    "tags": []
   },
   "outputs": [
    {
     "data": {
      "text/html": [
       "<div>\n",
       "<style scoped>\n",
       "    .dataframe tbody tr th:only-of-type {\n",
       "        vertical-align: middle;\n",
       "    }\n",
       "\n",
       "    .dataframe tbody tr th {\n",
       "        vertical-align: top;\n",
       "    }\n",
       "\n",
       "    .dataframe thead th {\n",
       "        text-align: right;\n",
       "    }\n",
       "</style>\n",
       "<table border=\"1\" class=\"dataframe\">\n",
       "  <thead>\n",
       "    <tr style=\"text-align: right;\">\n",
       "      <th></th>\n",
       "      <th>mpg</th>\n",
       "      <th>cylinders</th>\n",
       "      <th>displacement</th>\n",
       "      <th>horsepower</th>\n",
       "      <th>weight</th>\n",
       "      <th>acceleration</th>\n",
       "      <th>model_year</th>\n",
       "    </tr>\n",
       "  </thead>\n",
       "  <tbody>\n",
       "    <tr>\n",
       "      <th>count</th>\n",
       "      <td>398.000000</td>\n",
       "      <td>398.000000</td>\n",
       "      <td>398.000000</td>\n",
       "      <td>392.000000</td>\n",
       "      <td>398.000000</td>\n",
       "      <td>398.000000</td>\n",
       "      <td>398.000000</td>\n",
       "    </tr>\n",
       "    <tr>\n",
       "      <th>mean</th>\n",
       "      <td>23.514573</td>\n",
       "      <td>5.454774</td>\n",
       "      <td>193.425879</td>\n",
       "      <td>104.469388</td>\n",
       "      <td>2970.424623</td>\n",
       "      <td>15.568090</td>\n",
       "      <td>76.010050</td>\n",
       "    </tr>\n",
       "    <tr>\n",
       "      <th>std</th>\n",
       "      <td>7.815984</td>\n",
       "      <td>1.701004</td>\n",
       "      <td>104.269838</td>\n",
       "      <td>38.491160</td>\n",
       "      <td>846.841774</td>\n",
       "      <td>2.757689</td>\n",
       "      <td>3.697627</td>\n",
       "    </tr>\n",
       "    <tr>\n",
       "      <th>min</th>\n",
       "      <td>9.000000</td>\n",
       "      <td>3.000000</td>\n",
       "      <td>68.000000</td>\n",
       "      <td>46.000000</td>\n",
       "      <td>1613.000000</td>\n",
       "      <td>8.000000</td>\n",
       "      <td>70.000000</td>\n",
       "    </tr>\n",
       "    <tr>\n",
       "      <th>25%</th>\n",
       "      <td>17.500000</td>\n",
       "      <td>4.000000</td>\n",
       "      <td>104.250000</td>\n",
       "      <td>75.000000</td>\n",
       "      <td>2223.750000</td>\n",
       "      <td>13.825000</td>\n",
       "      <td>73.000000</td>\n",
       "    </tr>\n",
       "    <tr>\n",
       "      <th>50%</th>\n",
       "      <td>23.000000</td>\n",
       "      <td>4.000000</td>\n",
       "      <td>148.500000</td>\n",
       "      <td>93.500000</td>\n",
       "      <td>2803.500000</td>\n",
       "      <td>15.500000</td>\n",
       "      <td>76.000000</td>\n",
       "    </tr>\n",
       "    <tr>\n",
       "      <th>75%</th>\n",
       "      <td>29.000000</td>\n",
       "      <td>8.000000</td>\n",
       "      <td>262.000000</td>\n",
       "      <td>126.000000</td>\n",
       "      <td>3608.000000</td>\n",
       "      <td>17.175000</td>\n",
       "      <td>79.000000</td>\n",
       "    </tr>\n",
       "    <tr>\n",
       "      <th>max</th>\n",
       "      <td>46.600000</td>\n",
       "      <td>8.000000</td>\n",
       "      <td>455.000000</td>\n",
       "      <td>230.000000</td>\n",
       "      <td>5140.000000</td>\n",
       "      <td>24.800000</td>\n",
       "      <td>82.000000</td>\n",
       "    </tr>\n",
       "  </tbody>\n",
       "</table>\n",
       "</div>"
      ],
      "text/plain": [
       "              mpg   cylinders  displacement  horsepower       weight  \\\n",
       "count  398.000000  398.000000    398.000000  392.000000   398.000000   \n",
       "mean    23.514573    5.454774    193.425879  104.469388  2970.424623   \n",
       "std      7.815984    1.701004    104.269838   38.491160   846.841774   \n",
       "min      9.000000    3.000000     68.000000   46.000000  1613.000000   \n",
       "25%     17.500000    4.000000    104.250000   75.000000  2223.750000   \n",
       "50%     23.000000    4.000000    148.500000   93.500000  2803.500000   \n",
       "75%     29.000000    8.000000    262.000000  126.000000  3608.000000   \n",
       "max     46.600000    8.000000    455.000000  230.000000  5140.000000   \n",
       "\n",
       "       acceleration  model_year  \n",
       "count    398.000000  398.000000  \n",
       "mean      15.568090   76.010050  \n",
       "std        2.757689    3.697627  \n",
       "min        8.000000   70.000000  \n",
       "25%       13.825000   73.000000  \n",
       "50%       15.500000   76.000000  \n",
       "75%       17.175000   79.000000  \n",
       "max       24.800000   82.000000  "
      ]
     },
     "execution_count": 7,
     "metadata": {},
     "output_type": "execute_result"
    }
   ],
   "source": [
    "df.describe()"
   ]
  },
  {
   "cell_type": "code",
   "execution_count": 8,
   "id": "128111ef",
   "metadata": {
    "execution": {
     "iopub.execute_input": "2023-08-12T09:37:34.903154Z",
     "iopub.status.busy": "2023-08-12T09:37:34.902448Z",
     "iopub.status.idle": "2023-08-12T09:37:34.920823Z",
     "shell.execute_reply": "2023-08-12T09:37:34.919703Z"
    },
    "papermill": {
     "duration": 0.040586,
     "end_time": "2023-08-12T09:37:34.923062",
     "exception": false,
     "start_time": "2023-08-12T09:37:34.882476",
     "status": "completed"
    },
    "tags": []
   },
   "outputs": [
    {
     "name": "stderr",
     "output_type": "stream",
     "text": [
      "/tmp/ipykernel_20/1134722465.py:1: FutureWarning: The default value of numeric_only in DataFrame.corr is deprecated. In a future version, it will default to False. Select only valid columns or specify the value of numeric_only to silence this warning.\n",
      "  df.corr()\n"
     ]
    },
    {
     "data": {
      "text/html": [
       "<div>\n",
       "<style scoped>\n",
       "    .dataframe tbody tr th:only-of-type {\n",
       "        vertical-align: middle;\n",
       "    }\n",
       "\n",
       "    .dataframe tbody tr th {\n",
       "        vertical-align: top;\n",
       "    }\n",
       "\n",
       "    .dataframe thead th {\n",
       "        text-align: right;\n",
       "    }\n",
       "</style>\n",
       "<table border=\"1\" class=\"dataframe\">\n",
       "  <thead>\n",
       "    <tr style=\"text-align: right;\">\n",
       "      <th></th>\n",
       "      <th>mpg</th>\n",
       "      <th>cylinders</th>\n",
       "      <th>displacement</th>\n",
       "      <th>horsepower</th>\n",
       "      <th>weight</th>\n",
       "      <th>acceleration</th>\n",
       "      <th>model_year</th>\n",
       "    </tr>\n",
       "  </thead>\n",
       "  <tbody>\n",
       "    <tr>\n",
       "      <th>mpg</th>\n",
       "      <td>1.000000</td>\n",
       "      <td>-0.775396</td>\n",
       "      <td>-0.804203</td>\n",
       "      <td>-0.778427</td>\n",
       "      <td>-0.831741</td>\n",
       "      <td>0.420289</td>\n",
       "      <td>0.579267</td>\n",
       "    </tr>\n",
       "    <tr>\n",
       "      <th>cylinders</th>\n",
       "      <td>-0.775396</td>\n",
       "      <td>1.000000</td>\n",
       "      <td>0.950721</td>\n",
       "      <td>0.842983</td>\n",
       "      <td>0.896017</td>\n",
       "      <td>-0.505419</td>\n",
       "      <td>-0.348746</td>\n",
       "    </tr>\n",
       "    <tr>\n",
       "      <th>displacement</th>\n",
       "      <td>-0.804203</td>\n",
       "      <td>0.950721</td>\n",
       "      <td>1.000000</td>\n",
       "      <td>0.897257</td>\n",
       "      <td>0.932824</td>\n",
       "      <td>-0.543684</td>\n",
       "      <td>-0.370164</td>\n",
       "    </tr>\n",
       "    <tr>\n",
       "      <th>horsepower</th>\n",
       "      <td>-0.778427</td>\n",
       "      <td>0.842983</td>\n",
       "      <td>0.897257</td>\n",
       "      <td>1.000000</td>\n",
       "      <td>0.864538</td>\n",
       "      <td>-0.689196</td>\n",
       "      <td>-0.416361</td>\n",
       "    </tr>\n",
       "    <tr>\n",
       "      <th>weight</th>\n",
       "      <td>-0.831741</td>\n",
       "      <td>0.896017</td>\n",
       "      <td>0.932824</td>\n",
       "      <td>0.864538</td>\n",
       "      <td>1.000000</td>\n",
       "      <td>-0.417457</td>\n",
       "      <td>-0.306564</td>\n",
       "    </tr>\n",
       "    <tr>\n",
       "      <th>acceleration</th>\n",
       "      <td>0.420289</td>\n",
       "      <td>-0.505419</td>\n",
       "      <td>-0.543684</td>\n",
       "      <td>-0.689196</td>\n",
       "      <td>-0.417457</td>\n",
       "      <td>1.000000</td>\n",
       "      <td>0.288137</td>\n",
       "    </tr>\n",
       "    <tr>\n",
       "      <th>model_year</th>\n",
       "      <td>0.579267</td>\n",
       "      <td>-0.348746</td>\n",
       "      <td>-0.370164</td>\n",
       "      <td>-0.416361</td>\n",
       "      <td>-0.306564</td>\n",
       "      <td>0.288137</td>\n",
       "      <td>1.000000</td>\n",
       "    </tr>\n",
       "  </tbody>\n",
       "</table>\n",
       "</div>"
      ],
      "text/plain": [
       "                   mpg  cylinders  displacement  horsepower    weight  \\\n",
       "mpg           1.000000  -0.775396     -0.804203   -0.778427 -0.831741   \n",
       "cylinders    -0.775396   1.000000      0.950721    0.842983  0.896017   \n",
       "displacement -0.804203   0.950721      1.000000    0.897257  0.932824   \n",
       "horsepower   -0.778427   0.842983      0.897257    1.000000  0.864538   \n",
       "weight       -0.831741   0.896017      0.932824    0.864538  1.000000   \n",
       "acceleration  0.420289  -0.505419     -0.543684   -0.689196 -0.417457   \n",
       "model_year    0.579267  -0.348746     -0.370164   -0.416361 -0.306564   \n",
       "\n",
       "              acceleration  model_year  \n",
       "mpg               0.420289    0.579267  \n",
       "cylinders        -0.505419   -0.348746  \n",
       "displacement     -0.543684   -0.370164  \n",
       "horsepower       -0.689196   -0.416361  \n",
       "weight           -0.417457   -0.306564  \n",
       "acceleration      1.000000    0.288137  \n",
       "model_year        0.288137    1.000000  "
      ]
     },
     "execution_count": 8,
     "metadata": {},
     "output_type": "execute_result"
    }
   ],
   "source": [
    "df.corr()"
   ]
  },
  {
   "cell_type": "code",
   "execution_count": 9,
   "id": "521d7594",
   "metadata": {
    "execution": {
     "iopub.execute_input": "2023-08-12T09:37:34.962691Z",
     "iopub.status.busy": "2023-08-12T09:37:34.962011Z",
     "iopub.status.idle": "2023-08-12T09:37:34.970699Z",
     "shell.execute_reply": "2023-08-12T09:37:34.969600Z"
    },
    "papermill": {
     "duration": 0.031028,
     "end_time": "2023-08-12T09:37:34.972890",
     "exception": false,
     "start_time": "2023-08-12T09:37:34.941862",
     "status": "completed"
    },
    "tags": []
   },
   "outputs": [
    {
     "data": {
      "text/plain": [
       "mpg             False\n",
       "cylinders       False\n",
       "displacement    False\n",
       "horsepower       True\n",
       "weight          False\n",
       "acceleration    False\n",
       "model_year      False\n",
       "origin          False\n",
       "name            False\n",
       "dtype: bool"
      ]
     },
     "execution_count": 9,
     "metadata": {},
     "output_type": "execute_result"
    }
   ],
   "source": [
    "df.isnull().any()"
   ]
  },
  {
   "cell_type": "code",
   "execution_count": 10,
   "id": "4dd42868",
   "metadata": {
    "execution": {
     "iopub.execute_input": "2023-08-12T09:37:35.013394Z",
     "iopub.status.busy": "2023-08-12T09:37:35.012642Z",
     "iopub.status.idle": "2023-08-12T09:37:35.019050Z",
     "shell.execute_reply": "2023-08-12T09:37:35.017914Z"
    },
    "papermill": {
     "duration": 0.030017,
     "end_time": "2023-08-12T09:37:35.021597",
     "exception": false,
     "start_time": "2023-08-12T09:37:34.991580",
     "status": "completed"
    },
    "tags": []
   },
   "outputs": [],
   "source": [
    "df = df.dropna()"
   ]
  },
  {
   "cell_type": "code",
   "execution_count": 11,
   "id": "b35e1f36",
   "metadata": {
    "execution": {
     "iopub.execute_input": "2023-08-12T09:37:35.062549Z",
     "iopub.status.busy": "2023-08-12T09:37:35.061814Z",
     "iopub.status.idle": "2023-08-12T09:37:35.074842Z",
     "shell.execute_reply": "2023-08-12T09:37:35.073494Z"
    },
    "papermill": {
     "duration": 0.036704,
     "end_time": "2023-08-12T09:37:35.077237",
     "exception": false,
     "start_time": "2023-08-12T09:37:35.040533",
     "status": "completed"
    },
    "tags": []
   },
   "outputs": [
    {
     "name": "stdout",
     "output_type": "stream",
     "text": [
      "<class 'pandas.core.frame.DataFrame'>\n",
      "Int64Index: 392 entries, 0 to 397\n",
      "Data columns (total 9 columns):\n",
      " #   Column        Non-Null Count  Dtype  \n",
      "---  ------        --------------  -----  \n",
      " 0   mpg           392 non-null    float64\n",
      " 1   cylinders     392 non-null    int64  \n",
      " 2   displacement  392 non-null    float64\n",
      " 3   horsepower    392 non-null    float64\n",
      " 4   weight        392 non-null    int64  \n",
      " 5   acceleration  392 non-null    float64\n",
      " 6   model_year    392 non-null    int64  \n",
      " 7   origin        392 non-null    object \n",
      " 8   name          392 non-null    object \n",
      "dtypes: float64(4), int64(3), object(2)\n",
      "memory usage: 30.6+ KB\n"
     ]
    }
   ],
   "source": [
    "df.info()"
   ]
  },
  {
   "cell_type": "markdown",
   "id": "4dd718c9",
   "metadata": {
    "papermill": {
     "duration": 0.018933,
     "end_time": "2023-08-12T09:37:35.115807",
     "exception": false,
     "start_time": "2023-08-12T09:37:35.096874",
     "status": "completed"
    },
    "tags": []
   },
   "source": [
    "# Define Target Variable (y) and Feature Variables (X)"
   ]
  },
  {
   "cell_type": "code",
   "execution_count": 12,
   "id": "abeb26e8",
   "metadata": {
    "execution": {
     "iopub.execute_input": "2023-08-12T09:37:35.156261Z",
     "iopub.status.busy": "2023-08-12T09:37:35.155541Z",
     "iopub.status.idle": "2023-08-12T09:37:35.162049Z",
     "shell.execute_reply": "2023-08-12T09:37:35.161185Z"
    },
    "papermill": {
     "duration": 0.029347,
     "end_time": "2023-08-12T09:37:35.164208",
     "exception": false,
     "start_time": "2023-08-12T09:37:35.134861",
     "status": "completed"
    },
    "tags": []
   },
   "outputs": [
    {
     "data": {
      "text/plain": [
       "Index(['mpg', 'cylinders', 'displacement', 'horsepower', 'weight',\n",
       "       'acceleration', 'model_year', 'origin', 'name'],\n",
       "      dtype='object')"
      ]
     },
     "execution_count": 12,
     "metadata": {},
     "output_type": "execute_result"
    }
   ],
   "source": [
    "df.columns"
   ]
  },
  {
   "cell_type": "code",
   "execution_count": 13,
   "id": "6801f24c",
   "metadata": {
    "execution": {
     "iopub.execute_input": "2023-08-12T09:37:35.204784Z",
     "iopub.status.busy": "2023-08-12T09:37:35.204051Z",
     "iopub.status.idle": "2023-08-12T09:37:35.209340Z",
     "shell.execute_reply": "2023-08-12T09:37:35.208177Z"
    },
    "papermill": {
     "duration": 0.028,
     "end_time": "2023-08-12T09:37:35.211610",
     "exception": false,
     "start_time": "2023-08-12T09:37:35.183610",
     "status": "completed"
    },
    "tags": []
   },
   "outputs": [],
   "source": [
    "y = df['mpg']"
   ]
  },
  {
   "cell_type": "code",
   "execution_count": 14,
   "id": "854fd9bc",
   "metadata": {
    "execution": {
     "iopub.execute_input": "2023-08-12T09:37:35.252490Z",
     "iopub.status.busy": "2023-08-12T09:37:35.251770Z",
     "iopub.status.idle": "2023-08-12T09:37:35.257874Z",
     "shell.execute_reply": "2023-08-12T09:37:35.256700Z"
    },
    "papermill": {
     "duration": 0.029341,
     "end_time": "2023-08-12T09:37:35.260126",
     "exception": false,
     "start_time": "2023-08-12T09:37:35.230785",
     "status": "completed"
    },
    "tags": []
   },
   "outputs": [
    {
     "data": {
      "text/plain": [
       "(392,)"
      ]
     },
     "execution_count": 14,
     "metadata": {},
     "output_type": "execute_result"
    }
   ],
   "source": [
    "y.shape"
   ]
  },
  {
   "cell_type": "code",
   "execution_count": 15,
   "id": "f9d064f7",
   "metadata": {
    "execution": {
     "iopub.execute_input": "2023-08-12T09:37:35.301667Z",
     "iopub.status.busy": "2023-08-12T09:37:35.300947Z",
     "iopub.status.idle": "2023-08-12T09:37:35.306598Z",
     "shell.execute_reply": "2023-08-12T09:37:35.305645Z"
    },
    "papermill": {
     "duration": 0.029556,
     "end_time": "2023-08-12T09:37:35.309052",
     "exception": false,
     "start_time": "2023-08-12T09:37:35.279496",
     "status": "completed"
    },
    "tags": []
   },
   "outputs": [],
   "source": [
    "x = df[['displacement' ,'horsepower', 'weight' , 'acceleration']]"
   ]
  },
  {
   "cell_type": "code",
   "execution_count": 16,
   "id": "84fb4bc9",
   "metadata": {
    "execution": {
     "iopub.execute_input": "2023-08-12T09:37:35.349498Z",
     "iopub.status.busy": "2023-08-12T09:37:35.349036Z",
     "iopub.status.idle": "2023-08-12T09:37:35.356226Z",
     "shell.execute_reply": "2023-08-12T09:37:35.355083Z"
    },
    "papermill": {
     "duration": 0.030235,
     "end_time": "2023-08-12T09:37:35.358609",
     "exception": false,
     "start_time": "2023-08-12T09:37:35.328374",
     "status": "completed"
    },
    "tags": []
   },
   "outputs": [
    {
     "data": {
      "text/plain": [
       "(392, 4)"
      ]
     },
     "execution_count": 16,
     "metadata": {},
     "output_type": "execute_result"
    }
   ],
   "source": [
    "x.shape"
   ]
  },
  {
   "cell_type": "code",
   "execution_count": 17,
   "id": "6211f9b1",
   "metadata": {
    "execution": {
     "iopub.execute_input": "2023-08-12T09:37:35.399760Z",
     "iopub.status.busy": "2023-08-12T09:37:35.398977Z",
     "iopub.status.idle": "2023-08-12T09:37:35.417052Z",
     "shell.execute_reply": "2023-08-12T09:37:35.415809Z"
    },
    "papermill": {
     "duration": 0.041867,
     "end_time": "2023-08-12T09:37:35.419784",
     "exception": false,
     "start_time": "2023-08-12T09:37:35.377917",
     "status": "completed"
    },
    "tags": []
   },
   "outputs": [
    {
     "data": {
      "text/html": [
       "<div>\n",
       "<style scoped>\n",
       "    .dataframe tbody tr th:only-of-type {\n",
       "        vertical-align: middle;\n",
       "    }\n",
       "\n",
       "    .dataframe tbody tr th {\n",
       "        vertical-align: top;\n",
       "    }\n",
       "\n",
       "    .dataframe thead th {\n",
       "        text-align: right;\n",
       "    }\n",
       "</style>\n",
       "<table border=\"1\" class=\"dataframe\">\n",
       "  <thead>\n",
       "    <tr style=\"text-align: right;\">\n",
       "      <th></th>\n",
       "      <th>displacement</th>\n",
       "      <th>horsepower</th>\n",
       "      <th>weight</th>\n",
       "      <th>acceleration</th>\n",
       "    </tr>\n",
       "  </thead>\n",
       "  <tbody>\n",
       "    <tr>\n",
       "      <th>0</th>\n",
       "      <td>307.0</td>\n",
       "      <td>130.0</td>\n",
       "      <td>3504</td>\n",
       "      <td>12.0</td>\n",
       "    </tr>\n",
       "    <tr>\n",
       "      <th>1</th>\n",
       "      <td>350.0</td>\n",
       "      <td>165.0</td>\n",
       "      <td>3693</td>\n",
       "      <td>11.5</td>\n",
       "    </tr>\n",
       "    <tr>\n",
       "      <th>2</th>\n",
       "      <td>318.0</td>\n",
       "      <td>150.0</td>\n",
       "      <td>3436</td>\n",
       "      <td>11.0</td>\n",
       "    </tr>\n",
       "    <tr>\n",
       "      <th>3</th>\n",
       "      <td>304.0</td>\n",
       "      <td>150.0</td>\n",
       "      <td>3433</td>\n",
       "      <td>12.0</td>\n",
       "    </tr>\n",
       "    <tr>\n",
       "      <th>4</th>\n",
       "      <td>302.0</td>\n",
       "      <td>140.0</td>\n",
       "      <td>3449</td>\n",
       "      <td>10.5</td>\n",
       "    </tr>\n",
       "    <tr>\n",
       "      <th>...</th>\n",
       "      <td>...</td>\n",
       "      <td>...</td>\n",
       "      <td>...</td>\n",
       "      <td>...</td>\n",
       "    </tr>\n",
       "    <tr>\n",
       "      <th>393</th>\n",
       "      <td>140.0</td>\n",
       "      <td>86.0</td>\n",
       "      <td>2790</td>\n",
       "      <td>15.6</td>\n",
       "    </tr>\n",
       "    <tr>\n",
       "      <th>394</th>\n",
       "      <td>97.0</td>\n",
       "      <td>52.0</td>\n",
       "      <td>2130</td>\n",
       "      <td>24.6</td>\n",
       "    </tr>\n",
       "    <tr>\n",
       "      <th>395</th>\n",
       "      <td>135.0</td>\n",
       "      <td>84.0</td>\n",
       "      <td>2295</td>\n",
       "      <td>11.6</td>\n",
       "    </tr>\n",
       "    <tr>\n",
       "      <th>396</th>\n",
       "      <td>120.0</td>\n",
       "      <td>79.0</td>\n",
       "      <td>2625</td>\n",
       "      <td>18.6</td>\n",
       "    </tr>\n",
       "    <tr>\n",
       "      <th>397</th>\n",
       "      <td>119.0</td>\n",
       "      <td>82.0</td>\n",
       "      <td>2720</td>\n",
       "      <td>19.4</td>\n",
       "    </tr>\n",
       "  </tbody>\n",
       "</table>\n",
       "<p>392 rows × 4 columns</p>\n",
       "</div>"
      ],
      "text/plain": [
       "     displacement  horsepower  weight  acceleration\n",
       "0           307.0       130.0    3504          12.0\n",
       "1           350.0       165.0    3693          11.5\n",
       "2           318.0       150.0    3436          11.0\n",
       "3           304.0       150.0    3433          12.0\n",
       "4           302.0       140.0    3449          10.5\n",
       "..            ...         ...     ...           ...\n",
       "393         140.0        86.0    2790          15.6\n",
       "394          97.0        52.0    2130          24.6\n",
       "395         135.0        84.0    2295          11.6\n",
       "396         120.0        79.0    2625          18.6\n",
       "397         119.0        82.0    2720          19.4\n",
       "\n",
       "[392 rows x 4 columns]"
      ]
     },
     "execution_count": 17,
     "metadata": {},
     "output_type": "execute_result"
    }
   ],
   "source": [
    "x"
   ]
  },
  {
   "cell_type": "markdown",
   "id": "4e005d8b",
   "metadata": {
    "papermill": {
     "duration": 0.019979,
     "end_time": "2023-08-12T09:37:35.459973",
     "exception": false,
     "start_time": "2023-08-12T09:37:35.439994",
     "status": "completed"
    },
    "tags": []
   },
   "source": [
    "# Scaling Data"
   ]
  },
  {
   "cell_type": "code",
   "execution_count": 18,
   "id": "89e7fd6b",
   "metadata": {
    "execution": {
     "iopub.execute_input": "2023-08-12T09:37:35.502094Z",
     "iopub.status.busy": "2023-08-12T09:37:35.501704Z",
     "iopub.status.idle": "2023-08-12T09:37:35.667457Z",
     "shell.execute_reply": "2023-08-12T09:37:35.666180Z"
    },
    "papermill": {
     "duration": 0.189939,
     "end_time": "2023-08-12T09:37:35.670282",
     "exception": false,
     "start_time": "2023-08-12T09:37:35.480343",
     "status": "completed"
    },
    "tags": []
   },
   "outputs": [],
   "source": [
    "from sklearn.preprocessing import StandardScaler"
   ]
  },
  {
   "cell_type": "code",
   "execution_count": 19,
   "id": "7bcc92e6",
   "metadata": {
    "execution": {
     "iopub.execute_input": "2023-08-12T09:37:35.712553Z",
     "iopub.status.busy": "2023-08-12T09:37:35.712138Z",
     "iopub.status.idle": "2023-08-12T09:37:35.717016Z",
     "shell.execute_reply": "2023-08-12T09:37:35.715869Z"
    },
    "papermill": {
     "duration": 0.029023,
     "end_time": "2023-08-12T09:37:35.719537",
     "exception": false,
     "start_time": "2023-08-12T09:37:35.690514",
     "status": "completed"
    },
    "tags": []
   },
   "outputs": [],
   "source": [
    "ss = StandardScaler()"
   ]
  },
  {
   "cell_type": "code",
   "execution_count": 20,
   "id": "588f55f8",
   "metadata": {
    "execution": {
     "iopub.execute_input": "2023-08-12T09:37:35.761710Z",
     "iopub.status.busy": "2023-08-12T09:37:35.761274Z",
     "iopub.status.idle": "2023-08-12T09:37:35.771221Z",
     "shell.execute_reply": "2023-08-12T09:37:35.770167Z"
    },
    "papermill": {
     "duration": 0.033948,
     "end_time": "2023-08-12T09:37:35.773797",
     "exception": false,
     "start_time": "2023-08-12T09:37:35.739849",
     "status": "completed"
    },
    "tags": []
   },
   "outputs": [],
   "source": [
    "x = ss.fit_transform(x)"
   ]
  },
  {
   "cell_type": "code",
   "execution_count": 21,
   "id": "ba749a7b",
   "metadata": {
    "execution": {
     "iopub.execute_input": "2023-08-12T09:37:35.815856Z",
     "iopub.status.busy": "2023-08-12T09:37:35.815452Z",
     "iopub.status.idle": "2023-08-12T09:37:35.821851Z",
     "shell.execute_reply": "2023-08-12T09:37:35.820881Z"
    },
    "papermill": {
     "duration": 0.030358,
     "end_time": "2023-08-12T09:37:35.824167",
     "exception": false,
     "start_time": "2023-08-12T09:37:35.793809",
     "status": "completed"
    },
    "tags": []
   },
   "outputs": [
    {
     "data": {
      "text/plain": [
       "array([[ 1.07728956,  0.66413273,  0.62054034, -1.285258  ],\n",
       "       [ 1.48873169,  1.57459447,  0.84333403, -1.46672362],\n",
       "       [ 1.1825422 ,  1.18439658,  0.54038176, -1.64818924],\n",
       "       ...,\n",
       "       [-0.56847897, -0.53247413, -0.80463202, -1.4304305 ],\n",
       "       [-0.7120053 , -0.66254009, -0.41562716,  1.11008813],\n",
       "       [-0.72157372, -0.58450051, -0.30364091,  1.40043312]])"
      ]
     },
     "execution_count": 21,
     "metadata": {},
     "output_type": "execute_result"
    }
   ],
   "source": [
    "x"
   ]
  },
  {
   "cell_type": "code",
   "execution_count": 22,
   "id": "433ac1fc",
   "metadata": {
    "execution": {
     "iopub.execute_input": "2023-08-12T09:37:35.868516Z",
     "iopub.status.busy": "2023-08-12T09:37:35.868097Z",
     "iopub.status.idle": "2023-08-12T09:37:35.895983Z",
     "shell.execute_reply": "2023-08-12T09:37:35.895123Z"
    },
    "papermill": {
     "duration": 0.05369,
     "end_time": "2023-08-12T09:37:35.898307",
     "exception": false,
     "start_time": "2023-08-12T09:37:35.844617",
     "status": "completed"
    },
    "tags": []
   },
   "outputs": [
    {
     "data": {
      "text/html": [
       "<div>\n",
       "<style scoped>\n",
       "    .dataframe tbody tr th:only-of-type {\n",
       "        vertical-align: middle;\n",
       "    }\n",
       "\n",
       "    .dataframe tbody tr th {\n",
       "        vertical-align: top;\n",
       "    }\n",
       "\n",
       "    .dataframe thead th {\n",
       "        text-align: right;\n",
       "    }\n",
       "</style>\n",
       "<table border=\"1\" class=\"dataframe\">\n",
       "  <thead>\n",
       "    <tr style=\"text-align: right;\">\n",
       "      <th></th>\n",
       "      <th>0</th>\n",
       "      <th>1</th>\n",
       "      <th>2</th>\n",
       "      <th>3</th>\n",
       "    </tr>\n",
       "  </thead>\n",
       "  <tbody>\n",
       "    <tr>\n",
       "      <th>count</th>\n",
       "      <td>3.920000e+02</td>\n",
       "      <td>3.920000e+02</td>\n",
       "      <td>3.920000e+02</td>\n",
       "      <td>3.920000e+02</td>\n",
       "    </tr>\n",
       "    <tr>\n",
       "      <th>mean</th>\n",
       "      <td>-7.250436e-17</td>\n",
       "      <td>-1.812609e-16</td>\n",
       "      <td>-1.812609e-17</td>\n",
       "      <td>4.350262e-16</td>\n",
       "    </tr>\n",
       "    <tr>\n",
       "      <th>std</th>\n",
       "      <td>1.001278e+00</td>\n",
       "      <td>1.001278e+00</td>\n",
       "      <td>1.001278e+00</td>\n",
       "      <td>1.001278e+00</td>\n",
       "    </tr>\n",
       "    <tr>\n",
       "      <th>min</th>\n",
       "      <td>-1.209563e+00</td>\n",
       "      <td>-1.520975e+00</td>\n",
       "      <td>-1.608575e+00</td>\n",
       "      <td>-2.736983e+00</td>\n",
       "    </tr>\n",
       "    <tr>\n",
       "      <th>25%</th>\n",
       "      <td>-8.555316e-01</td>\n",
       "      <td>-7.665929e-01</td>\n",
       "      <td>-8.868535e-01</td>\n",
       "      <td>-6.410551e-01</td>\n",
       "    </tr>\n",
       "    <tr>\n",
       "      <th>50%</th>\n",
       "      <td>-4.153842e-01</td>\n",
       "      <td>-2.853488e-01</td>\n",
       "      <td>-2.052109e-01</td>\n",
       "      <td>-1.499869e-02</td>\n",
       "    </tr>\n",
       "    <tr>\n",
       "      <th>75%</th>\n",
       "      <td>7.782764e-01</td>\n",
       "      <td>5.600800e-01</td>\n",
       "      <td>7.510927e-01</td>\n",
       "      <td>5.384714e-01</td>\n",
       "    </tr>\n",
       "    <tr>\n",
       "      <th>max</th>\n",
       "      <td>2.493416e+00</td>\n",
       "      <td>3.265452e+00</td>\n",
       "      <td>2.549061e+00</td>\n",
       "      <td>3.360262e+00</td>\n",
       "    </tr>\n",
       "  </tbody>\n",
       "</table>\n",
       "</div>"
      ],
      "text/plain": [
       "                  0             1             2             3\n",
       "count  3.920000e+02  3.920000e+02  3.920000e+02  3.920000e+02\n",
       "mean  -7.250436e-17 -1.812609e-16 -1.812609e-17  4.350262e-16\n",
       "std    1.001278e+00  1.001278e+00  1.001278e+00  1.001278e+00\n",
       "min   -1.209563e+00 -1.520975e+00 -1.608575e+00 -2.736983e+00\n",
       "25%   -8.555316e-01 -7.665929e-01 -8.868535e-01 -6.410551e-01\n",
       "50%   -4.153842e-01 -2.853488e-01 -2.052109e-01 -1.499869e-02\n",
       "75%    7.782764e-01  5.600800e-01  7.510927e-01  5.384714e-01\n",
       "max    2.493416e+00  3.265452e+00  2.549061e+00  3.360262e+00"
      ]
     },
     "execution_count": 22,
     "metadata": {},
     "output_type": "execute_result"
    }
   ],
   "source": [
    "pd.DataFrame(x).describe()"
   ]
  },
  {
   "cell_type": "markdown",
   "id": "0068a20e",
   "metadata": {
    "papermill": {
     "duration": 0.019961,
     "end_time": "2023-08-12T09:37:35.938550",
     "exception": false,
     "start_time": "2023-08-12T09:37:35.918589",
     "status": "completed"
    },
    "tags": []
   },
   "source": [
    "# Train Test Split"
   ]
  },
  {
   "cell_type": "code",
   "execution_count": 23,
   "id": "2b7120cb",
   "metadata": {
    "execution": {
     "iopub.execute_input": "2023-08-12T09:37:35.982298Z",
     "iopub.status.busy": "2023-08-12T09:37:35.981103Z",
     "iopub.status.idle": "2023-08-12T09:37:36.089320Z",
     "shell.execute_reply": "2023-08-12T09:37:36.088060Z"
    },
    "papermill": {
     "duration": 0.132666,
     "end_time": "2023-08-12T09:37:36.092280",
     "exception": false,
     "start_time": "2023-08-12T09:37:35.959614",
     "status": "completed"
    },
    "tags": []
   },
   "outputs": [],
   "source": [
    "from sklearn.model_selection import train_test_split"
   ]
  },
  {
   "cell_type": "code",
   "execution_count": 24,
   "id": "5fa1f494",
   "metadata": {
    "execution": {
     "iopub.execute_input": "2023-08-12T09:37:36.135350Z",
     "iopub.status.busy": "2023-08-12T09:37:36.134988Z",
     "iopub.status.idle": "2023-08-12T09:37:36.141350Z",
     "shell.execute_reply": "2023-08-12T09:37:36.140522Z"
    },
    "papermill": {
     "duration": 0.030766,
     "end_time": "2023-08-12T09:37:36.143664",
     "exception": false,
     "start_time": "2023-08-12T09:37:36.112898",
     "status": "completed"
    },
    "tags": []
   },
   "outputs": [],
   "source": [
    "x_train , x_test, y_train, y_test = train_test_split(x, y, train_size =0.7 , random_state=2529) "
   ]
  },
  {
   "cell_type": "code",
   "execution_count": 25,
   "id": "b65b2407",
   "metadata": {
    "execution": {
     "iopub.execute_input": "2023-08-12T09:37:36.186409Z",
     "iopub.status.busy": "2023-08-12T09:37:36.185625Z",
     "iopub.status.idle": "2023-08-12T09:37:36.193126Z",
     "shell.execute_reply": "2023-08-12T09:37:36.192173Z"
    },
    "papermill": {
     "duration": 0.031584,
     "end_time": "2023-08-12T09:37:36.195359",
     "exception": false,
     "start_time": "2023-08-12T09:37:36.163775",
     "status": "completed"
    },
    "tags": []
   },
   "outputs": [
    {
     "data": {
      "text/plain": [
       "((274, 4), (118, 4), (274,), (118,))"
      ]
     },
     "execution_count": 25,
     "metadata": {},
     "output_type": "execute_result"
    }
   ],
   "source": [
    "x_train.shape , x_test.shape, y_train.shape, y_test.shape"
   ]
  },
  {
   "cell_type": "markdown",
   "id": "5afd0f1b",
   "metadata": {
    "papermill": {
     "duration": 0.020327,
     "end_time": "2023-08-12T09:37:36.236456",
     "exception": false,
     "start_time": "2023-08-12T09:37:36.216129",
     "status": "completed"
    },
    "tags": []
   },
   "source": [
    "# Modeling"
   ]
  },
  {
   "cell_type": "code",
   "execution_count": 26,
   "id": "fa5b385e",
   "metadata": {
    "execution": {
     "iopub.execute_input": "2023-08-12T09:37:36.279529Z",
     "iopub.status.busy": "2023-08-12T09:37:36.279052Z",
     "iopub.status.idle": "2023-08-12T09:37:36.378508Z",
     "shell.execute_reply": "2023-08-12T09:37:36.377350Z"
    },
    "papermill": {
     "duration": 0.124583,
     "end_time": "2023-08-12T09:37:36.381602",
     "exception": false,
     "start_time": "2023-08-12T09:37:36.257019",
     "status": "completed"
    },
    "tags": []
   },
   "outputs": [],
   "source": [
    "from sklearn.linear_model import LinearRegression"
   ]
  },
  {
   "cell_type": "code",
   "execution_count": 27,
   "id": "0cb69243",
   "metadata": {
    "execution": {
     "iopub.execute_input": "2023-08-12T09:37:36.424920Z",
     "iopub.status.busy": "2023-08-12T09:37:36.424514Z",
     "iopub.status.idle": "2023-08-12T09:37:36.429614Z",
     "shell.execute_reply": "2023-08-12T09:37:36.428368Z"
    },
    "papermill": {
     "duration": 0.029878,
     "end_time": "2023-08-12T09:37:36.432018",
     "exception": false,
     "start_time": "2023-08-12T09:37:36.402140",
     "status": "completed"
    },
    "tags": []
   },
   "outputs": [],
   "source": [
    "lr = LinearRegression()"
   ]
  },
  {
   "cell_type": "code",
   "execution_count": 28,
   "id": "1e8f1896",
   "metadata": {
    "execution": {
     "iopub.execute_input": "2023-08-12T09:37:36.475363Z",
     "iopub.status.busy": "2023-08-12T09:37:36.474962Z",
     "iopub.status.idle": "2023-08-12T09:37:36.507690Z",
     "shell.execute_reply": "2023-08-12T09:37:36.506499Z"
    },
    "papermill": {
     "duration": 0.057353,
     "end_time": "2023-08-12T09:37:36.510157",
     "exception": false,
     "start_time": "2023-08-12T09:37:36.452804",
     "status": "completed"
    },
    "tags": []
   },
   "outputs": [
    {
     "data": {
      "text/html": [
       "<style>#sk-container-id-1 {color: black;background-color: white;}#sk-container-id-1 pre{padding: 0;}#sk-container-id-1 div.sk-toggleable {background-color: white;}#sk-container-id-1 label.sk-toggleable__label {cursor: pointer;display: block;width: 100%;margin-bottom: 0;padding: 0.3em;box-sizing: border-box;text-align: center;}#sk-container-id-1 label.sk-toggleable__label-arrow:before {content: \"▸\";float: left;margin-right: 0.25em;color: #696969;}#sk-container-id-1 label.sk-toggleable__label-arrow:hover:before {color: black;}#sk-container-id-1 div.sk-estimator:hover label.sk-toggleable__label-arrow:before {color: black;}#sk-container-id-1 div.sk-toggleable__content {max-height: 0;max-width: 0;overflow: hidden;text-align: left;background-color: #f0f8ff;}#sk-container-id-1 div.sk-toggleable__content pre {margin: 0.2em;color: black;border-radius: 0.25em;background-color: #f0f8ff;}#sk-container-id-1 input.sk-toggleable__control:checked~div.sk-toggleable__content {max-height: 200px;max-width: 100%;overflow: auto;}#sk-container-id-1 input.sk-toggleable__control:checked~label.sk-toggleable__label-arrow:before {content: \"▾\";}#sk-container-id-1 div.sk-estimator input.sk-toggleable__control:checked~label.sk-toggleable__label {background-color: #d4ebff;}#sk-container-id-1 div.sk-label input.sk-toggleable__control:checked~label.sk-toggleable__label {background-color: #d4ebff;}#sk-container-id-1 input.sk-hidden--visually {border: 0;clip: rect(1px 1px 1px 1px);clip: rect(1px, 1px, 1px, 1px);height: 1px;margin: -1px;overflow: hidden;padding: 0;position: absolute;width: 1px;}#sk-container-id-1 div.sk-estimator {font-family: monospace;background-color: #f0f8ff;border: 1px dotted black;border-radius: 0.25em;box-sizing: border-box;margin-bottom: 0.5em;}#sk-container-id-1 div.sk-estimator:hover {background-color: #d4ebff;}#sk-container-id-1 div.sk-parallel-item::after {content: \"\";width: 100%;border-bottom: 1px solid gray;flex-grow: 1;}#sk-container-id-1 div.sk-label:hover label.sk-toggleable__label {background-color: #d4ebff;}#sk-container-id-1 div.sk-serial::before {content: \"\";position: absolute;border-left: 1px solid gray;box-sizing: border-box;top: 0;bottom: 0;left: 50%;z-index: 0;}#sk-container-id-1 div.sk-serial {display: flex;flex-direction: column;align-items: center;background-color: white;padding-right: 0.2em;padding-left: 0.2em;position: relative;}#sk-container-id-1 div.sk-item {position: relative;z-index: 1;}#sk-container-id-1 div.sk-parallel {display: flex;align-items: stretch;justify-content: center;background-color: white;position: relative;}#sk-container-id-1 div.sk-item::before, #sk-container-id-1 div.sk-parallel-item::before {content: \"\";position: absolute;border-left: 1px solid gray;box-sizing: border-box;top: 0;bottom: 0;left: 50%;z-index: -1;}#sk-container-id-1 div.sk-parallel-item {display: flex;flex-direction: column;z-index: 1;position: relative;background-color: white;}#sk-container-id-1 div.sk-parallel-item:first-child::after {align-self: flex-end;width: 50%;}#sk-container-id-1 div.sk-parallel-item:last-child::after {align-self: flex-start;width: 50%;}#sk-container-id-1 div.sk-parallel-item:only-child::after {width: 0;}#sk-container-id-1 div.sk-dashed-wrapped {border: 1px dashed gray;margin: 0 0.4em 0.5em 0.4em;box-sizing: border-box;padding-bottom: 0.4em;background-color: white;}#sk-container-id-1 div.sk-label label {font-family: monospace;font-weight: bold;display: inline-block;line-height: 1.2em;}#sk-container-id-1 div.sk-label-container {text-align: center;}#sk-container-id-1 div.sk-container {/* jupyter's `normalize.less` sets `[hidden] { display: none; }` but bootstrap.min.css set `[hidden] { display: none !important; }` so we also need the `!important` here to be able to override the default hidden behavior on the sphinx rendered scikit-learn.org. See: https://github.com/scikit-learn/scikit-learn/issues/21755 */display: inline-block !important;position: relative;}#sk-container-id-1 div.sk-text-repr-fallback {display: none;}</style><div id=\"sk-container-id-1\" class=\"sk-top-container\"><div class=\"sk-text-repr-fallback\"><pre>LinearRegression()</pre><b>In a Jupyter environment, please rerun this cell to show the HTML representation or trust the notebook. <br />On GitHub, the HTML representation is unable to render, please try loading this page with nbviewer.org.</b></div><div class=\"sk-container\" hidden><div class=\"sk-item\"><div class=\"sk-estimator sk-toggleable\"><input class=\"sk-toggleable__control sk-hidden--visually\" id=\"sk-estimator-id-1\" type=\"checkbox\" checked><label for=\"sk-estimator-id-1\" class=\"sk-toggleable__label sk-toggleable__label-arrow\">LinearRegression</label><div class=\"sk-toggleable__content\"><pre>LinearRegression()</pre></div></div></div></div></div>"
      ],
      "text/plain": [
       "LinearRegression()"
      ]
     },
     "execution_count": 28,
     "metadata": {},
     "output_type": "execute_result"
    }
   ],
   "source": [
    "lr.fit(x_train , y_train)"
   ]
  },
  {
   "cell_type": "code",
   "execution_count": 29,
   "id": "fdf58e85",
   "metadata": {
    "execution": {
     "iopub.execute_input": "2023-08-12T09:37:36.554519Z",
     "iopub.status.busy": "2023-08-12T09:37:36.553720Z",
     "iopub.status.idle": "2023-08-12T09:37:36.563109Z",
     "shell.execute_reply": "2023-08-12T09:37:36.561658Z"
    },
    "papermill": {
     "duration": 0.034384,
     "end_time": "2023-08-12T09:37:36.565562",
     "exception": false,
     "start_time": "2023-08-12T09:37:36.531178",
     "status": "completed"
    },
    "tags": []
   },
   "outputs": [
    {
     "data": {
      "text/plain": [
       "23.485738559737584"
      ]
     },
     "execution_count": 29,
     "metadata": {},
     "output_type": "execute_result"
    }
   ],
   "source": [
    "lr.intercept_"
   ]
  },
  {
   "cell_type": "code",
   "execution_count": 30,
   "id": "3f4baf91",
   "metadata": {
    "execution": {
     "iopub.execute_input": "2023-08-12T09:37:36.610088Z",
     "iopub.status.busy": "2023-08-12T09:37:36.609365Z",
     "iopub.status.idle": "2023-08-12T09:37:36.616733Z",
     "shell.execute_reply": "2023-08-12T09:37:36.615595Z"
    },
    "papermill": {
     "duration": 0.032461,
     "end_time": "2023-08-12T09:37:36.619054",
     "exception": false,
     "start_time": "2023-08-12T09:37:36.586593",
     "status": "completed"
    },
    "tags": []
   },
   "outputs": [
    {
     "data": {
      "text/plain": [
       "array([-1.05767743, -1.68734727, -4.10787617, -0.11495177])"
      ]
     },
     "execution_count": 30,
     "metadata": {},
     "output_type": "execute_result"
    }
   ],
   "source": [
    "lr.coef_"
   ]
  },
  {
   "cell_type": "markdown",
   "id": "627c993d",
   "metadata": {
    "papermill": {
     "duration": 0.020674,
     "end_time": "2023-08-12T09:37:36.660854",
     "exception": false,
     "start_time": "2023-08-12T09:37:36.640180",
     "status": "completed"
    },
    "tags": []
   },
   "source": [
    "# Prediction"
   ]
  },
  {
   "cell_type": "code",
   "execution_count": 31,
   "id": "4f45dca4",
   "metadata": {
    "execution": {
     "iopub.execute_input": "2023-08-12T09:37:36.704603Z",
     "iopub.status.busy": "2023-08-12T09:37:36.704190Z",
     "iopub.status.idle": "2023-08-12T09:37:36.709048Z",
     "shell.execute_reply": "2023-08-12T09:37:36.707943Z"
    },
    "papermill": {
     "duration": 0.029666,
     "end_time": "2023-08-12T09:37:36.711454",
     "exception": false,
     "start_time": "2023-08-12T09:37:36.681788",
     "status": "completed"
    },
    "tags": []
   },
   "outputs": [],
   "source": [
    "y_pred = lr.predict(x_test)"
   ]
  },
  {
   "cell_type": "code",
   "execution_count": 32,
   "id": "be3e116f",
   "metadata": {
    "execution": {
     "iopub.execute_input": "2023-08-12T09:37:36.755630Z",
     "iopub.status.busy": "2023-08-12T09:37:36.754892Z",
     "iopub.status.idle": "2023-08-12T09:37:36.763218Z",
     "shell.execute_reply": "2023-08-12T09:37:36.762331Z"
    },
    "papermill": {
     "duration": 0.033068,
     "end_time": "2023-08-12T09:37:36.765390",
     "exception": false,
     "start_time": "2023-08-12T09:37:36.732322",
     "status": "completed"
    },
    "tags": []
   },
   "outputs": [
    {
     "data": {
      "text/plain": [
       "array([18.51865637, 15.09305675, 14.30128789, 23.6753321 , 29.7546115 ,\n",
       "       23.68796629, 26.61066644, 24.56692437, 15.06260986, 11.94312046,\n",
       "       24.08050053, 27.96518468, 31.66130278, 31.01309132, 18.32428976,\n",
       "       19.32795009, 28.08847536, 32.1506879 , 31.15859692, 27.15792144,\n",
       "       18.82433097, 22.54580176, 26.15598115, 32.36393869, 20.74377679,\n",
       "        8.78027518, 22.19699435, 18.20614294, 25.00052718, 15.26421552,\n",
       "       23.13441082, 17.10542257,  9.87180062, 30.00790415, 20.41204655,\n",
       "       29.11860245, 24.4305187 , 21.72601835, 10.51174626, 13.12426391,\n",
       "       21.41938406, 19.96113872,  6.19146626, 17.79025345, 22.5493033 ,\n",
       "       29.34765021, 13.4861847 , 25.88852083, 29.40406946, 22.41841964,\n",
       "       22.07684766, 16.46575802, 24.06290693, 30.12890046, 10.11318121,\n",
       "        9.85011438, 28.07543852, 23.41426617, 20.08501128, 30.68234133,\n",
       "       20.92026393, 26.78370281, 22.9078744 , 14.15936872, 24.6439883 ,\n",
       "       26.95515832, 15.25709393, 24.11272087, 30.80980589, 14.9770217 ,\n",
       "       27.67836372, 24.2372919 , 10.92177228, 30.22858779, 30.88687365,\n",
       "       27.33992044, 31.18447082, 10.8873597 , 27.63510608, 16.49231363,\n",
       "       25.63229888, 29.49776285, 14.90393439, 32.78670687, 30.37325244,\n",
       "       30.9262743 , 14.71702373, 27.09633246, 26.69933806, 29.06424799,\n",
       "       32.45810182, 29.44846898, 31.61239999, 31.57891837, 21.46542321,\n",
       "       31.76739191, 26.28605476, 28.96419915, 31.09628395, 24.80549594,\n",
       "       18.76490961, 23.28043777, 23.04466919, 22.14143162, 15.95854367,\n",
       "       28.62870918, 25.58809869, 11.4040908 , 25.73334842, 30.83500051,\n",
       "       21.94176255, 15.34532941, 30.37399213, 28.7620624 , 29.3639931 ,\n",
       "       29.10476703, 20.44662365, 28.11466839])"
      ]
     },
     "execution_count": 32,
     "metadata": {},
     "output_type": "execute_result"
    }
   ],
   "source": [
    "y_pred"
   ]
  },
  {
   "cell_type": "markdown",
   "id": "bc0f1a53",
   "metadata": {
    "papermill": {
     "duration": 0.020721,
     "end_time": "2023-08-12T09:37:36.807231",
     "exception": false,
     "start_time": "2023-08-12T09:37:36.786510",
     "status": "completed"
    },
    "tags": []
   },
   "source": [
    "# Model Accuracy"
   ]
  },
  {
   "cell_type": "code",
   "execution_count": 33,
   "id": "01ab8da5",
   "metadata": {
    "execution": {
     "iopub.execute_input": "2023-08-12T09:37:36.851623Z",
     "iopub.status.busy": "2023-08-12T09:37:36.850546Z",
     "iopub.status.idle": "2023-08-12T09:37:36.855357Z",
     "shell.execute_reply": "2023-08-12T09:37:36.854512Z"
    },
    "papermill": {
     "duration": 0.029489,
     "end_time": "2023-08-12T09:37:36.857771",
     "exception": false,
     "start_time": "2023-08-12T09:37:36.828282",
     "status": "completed"
    },
    "tags": []
   },
   "outputs": [],
   "source": [
    "from sklearn.metrics import mean_absolute_error, mean_absolute_percentage_error , r2_score"
   ]
  },
  {
   "cell_type": "code",
   "execution_count": 34,
   "id": "8ba29085",
   "metadata": {
    "execution": {
     "iopub.execute_input": "2023-08-12T09:37:36.902376Z",
     "iopub.status.busy": "2023-08-12T09:37:36.901126Z",
     "iopub.status.idle": "2023-08-12T09:37:36.908506Z",
     "shell.execute_reply": "2023-08-12T09:37:36.907648Z"
    },
    "papermill": {
     "duration": 0.031713,
     "end_time": "2023-08-12T09:37:36.910677",
     "exception": false,
     "start_time": "2023-08-12T09:37:36.878964",
     "status": "completed"
    },
    "tags": []
   },
   "outputs": [
    {
     "data": {
      "text/plain": [
       "3.3286968643244106"
      ]
     },
     "execution_count": 34,
     "metadata": {},
     "output_type": "execute_result"
    }
   ],
   "source": [
    "mean_absolute_error(y_test, y_pred)"
   ]
  },
  {
   "cell_type": "code",
   "execution_count": 35,
   "id": "41d649b4",
   "metadata": {
    "execution": {
     "iopub.execute_input": "2023-08-12T09:37:36.956259Z",
     "iopub.status.busy": "2023-08-12T09:37:36.955566Z",
     "iopub.status.idle": "2023-08-12T09:37:36.962833Z",
     "shell.execute_reply": "2023-08-12T09:37:36.961755Z"
    },
    "papermill": {
     "duration": 0.032604,
     "end_time": "2023-08-12T09:37:36.965009",
     "exception": false,
     "start_time": "2023-08-12T09:37:36.932405",
     "status": "completed"
    },
    "tags": []
   },
   "outputs": [
    {
     "data": {
      "text/plain": [
       "0.14713035779536746"
      ]
     },
     "execution_count": 35,
     "metadata": {},
     "output_type": "execute_result"
    }
   ],
   "source": [
    "mean_absolute_percentage_error(y_test, y_pred)"
   ]
  },
  {
   "cell_type": "markdown",
   "id": "0bee38ee",
   "metadata": {
    "papermill": {
     "duration": 0.021009,
     "end_time": "2023-08-12T09:37:37.007305",
     "exception": false,
     "start_time": "2023-08-12T09:37:36.986296",
     "status": "completed"
    },
    "tags": []
   },
   "source": [
    "# Explaination"
   ]
  },
  {
   "cell_type": "code",
   "execution_count": 36,
   "id": "1b8de061",
   "metadata": {
    "execution": {
     "iopub.execute_input": "2023-08-12T09:37:37.052553Z",
     "iopub.status.busy": "2023-08-12T09:37:37.051530Z",
     "iopub.status.idle": "2023-08-12T09:37:37.069093Z",
     "shell.execute_reply": "2023-08-12T09:37:37.067506Z"
    },
    "papermill": {
     "duration": 0.042542,
     "end_time": "2023-08-12T09:37:37.071270",
     "exception": true,
     "start_time": "2023-08-12T09:37:37.028728",
     "status": "failed"
    },
    "tags": []
   },
   "outputs": [
    {
     "ename": "SyntaxError",
     "evalue": "unterminated string literal (detected at line 1) (792730870.py, line 1)",
     "output_type": "error",
     "traceback": [
      "\u001b[0;36m  Cell \u001b[0;32mIn[36], line 1\u001b[0;36m\u001b[0m\n\u001b[0;31m    A Mileage Prediction Machine Learning (ML) project involves developing a model that can accurately predict the fuel efficiency or mileage of a vehicle based on certain input features. Here's an explanation of the key steps and components involved in such a project:\u001b[0m\n\u001b[0m                                                                                                                                                                                                ^\u001b[0m\n\u001b[0;31mSyntaxError\u001b[0m\u001b[0;31m:\u001b[0m unterminated string literal (detected at line 1)\n"
     ]
    }
   ],
   "source": [
    "A Mileage Prediction Machine Learning (ML) project involves developing a model that can accurately predict the fuel efficiency or mileage of a vehicle based on certain input features. Here's an explanation of the key steps and components involved in such a project:\n",
    "\n",
    "Data Collection and Preprocessing:\n",
    "Gather a dataset that contains information about various vehicles, including their specifications and associated mileage. The dataset should include features like engine size, weight, horsepower, and other relevant factors that could impact fuel efficiency. Clean and preprocess the data to handle missing values, outliers, and categorical variables.\n",
    "\n",
    "Feature Selection/Engineering:\n",
    "Identify the most relevant features that could contribute to predicting mileage accurately. You might need to transform or engineer features to make them more suitable for modeling. For example, you could create new features like \"engine efficiency\" by combining existing features.\n",
    "\n",
    "Data Splitting:\n",
    "Split the dataset into training and testing subsets. The training subset will be used to train the model, while the testing subset will be used to evaluate its performance on unseen data.\n",
    "\n",
    "Model Selection:\n",
    "Choose an appropriate regression algorithm for your mileage prediction task. Linear Regression is a common choice for such problems, but you can also explore other algorithms like Random Forest Regression, Gradient Boosting, or Neural Networks.\n",
    "\n",
    "Model Training:\n",
    "Train the selected model using the training data. During training, the model learns the relationships between the input features and the target (mileage) by adjusting its internal parameters.\n",
    "\n",
    "Model Evaluation:\n",
    "Use the testing data to evaluate the model's performance. Common evaluation metrics for regression tasks include Mean Squared Error (MSE), Root Mean Squared Error (RMSE), Mean Absolute Error (MAE), and R-squared (R2) score. These metrics help you understand how well the model's predictions match the actual mileage values.\n",
    "\n",
    "Hyperparameter Tuning (Optional):\n",
    "If applicable, tune the hyperparameters of the chosen algorithm to optimize the model's performance. Hyperparameters control aspects of the algorithm's behavior, such as regularization strength in Linear Regression or the number of trees in a Random Forest.\n",
    "\n",
    "Prediction and Deployment (Optional):\n",
    "Once you're satisfied with the model's performance, you can deploy it for making real-world predictions. Users could input vehicle specifications, and the model would provide an estimated mileage.\n",
    "\n",
    "Iterative Refinement:\n",
    "If your model's performance is not satisfactory, you can revisit earlier steps to improve it. This might involve collecting more data, experimenting with different features, trying different algorithms, or fine-tuning hyperparameters.\n",
    "\n",
    "Communication:\n",
    "Finally, communicate your results and findings. This could involve creating visualizations to show how well the model's predictions align with the actual mileage. Explain the model's strengths, weaknesses, and potential applications.\n",
    "\n",
    "Overall, a Mileage Prediction ML project demonstrates how machine learning can be applied to real-world problems in the automotive domain, providing insights into the factors that affect vehicle fuel efficiency and offering a useful tool for vehicle buyers, manufacturers, and enthusiasts."
   ]
  }
 ],
 "metadata": {
  "kernelspec": {
   "display_name": "Python 3",
   "language": "python",
   "name": "python3"
  },
  "language_info": {
   "codemirror_mode": {
    "name": "ipython",
    "version": 3
   },
   "file_extension": ".py",
   "mimetype": "text/x-python",
   "name": "python",
   "nbconvert_exporter": "python",
   "pygments_lexer": "ipython3",
   "version": "3.12.4"
  },
  "papermill": {
   "default_parameters": {},
   "duration": 18.941893,
   "end_time": "2023-08-12T09:37:38.114844",
   "environment_variables": {},
   "exception": true,
   "input_path": "__notebook__.ipynb",
   "output_path": "__notebook__.ipynb",
   "parameters": {},
   "start_time": "2023-08-12T09:37:19.172951",
   "version": "2.4.0"
  }
 },
 "nbformat": 4,
 "nbformat_minor": 5
}
